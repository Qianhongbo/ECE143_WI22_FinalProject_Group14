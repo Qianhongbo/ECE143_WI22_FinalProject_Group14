{
 "cells": [
  {
   "cell_type": "code",
   "execution_count": 251,
   "id": "f52382b0",
   "metadata": {},
   "outputs": [],
   "source": [
    "import numpy as np\n",
    "import pandas as pd\n",
    "import matplotlib.pyplot as plt\n",
    "from collections import defaultdict"
   ]
  },
  {
   "cell_type": "markdown",
   "id": "6b2eb5fd",
   "metadata": {},
   "source": [
    "## Read data from the dataset."
   ]
  },
  {
   "cell_type": "code",
   "execution_count": 148,
   "id": "fca979c1",
   "metadata": {},
   "outputs": [],
   "source": [
    "f = pd.read_csv('RAW_recipes.csv')"
   ]
  },
  {
   "cell_type": "code",
   "execution_count": 149,
   "id": "89c220fc",
   "metadata": {},
   "outputs": [
    {
     "data": {
      "text/html": [
       "<div>\n",
       "<style scoped>\n",
       "    .dataframe tbody tr th:only-of-type {\n",
       "        vertical-align: middle;\n",
       "    }\n",
       "\n",
       "    .dataframe tbody tr th {\n",
       "        vertical-align: top;\n",
       "    }\n",
       "\n",
       "    .dataframe thead th {\n",
       "        text-align: right;\n",
       "    }\n",
       "</style>\n",
       "<table border=\"1\" class=\"dataframe\">\n",
       "  <thead>\n",
       "    <tr style=\"text-align: right;\">\n",
       "      <th></th>\n",
       "      <th>name</th>\n",
       "      <th>id</th>\n",
       "      <th>minutes</th>\n",
       "      <th>contributor_id</th>\n",
       "      <th>submitted</th>\n",
       "      <th>tags</th>\n",
       "      <th>nutrition</th>\n",
       "      <th>n_steps</th>\n",
       "      <th>steps</th>\n",
       "      <th>description</th>\n",
       "      <th>ingredients</th>\n",
       "      <th>n_ingredients</th>\n",
       "    </tr>\n",
       "  </thead>\n",
       "  <tbody>\n",
       "    <tr>\n",
       "      <th>0</th>\n",
       "      <td>arriba   baked winter squash mexican style</td>\n",
       "      <td>137739</td>\n",
       "      <td>55</td>\n",
       "      <td>47892</td>\n",
       "      <td>2005-09-16</td>\n",
       "      <td>['60-minutes-or-less', 'time-to-make', 'course...</td>\n",
       "      <td>[51.5, 0.0, 13.0, 0.0, 2.0, 0.0, 4.0]</td>\n",
       "      <td>11</td>\n",
       "      <td>['make a choice and proceed with recipe', 'dep...</td>\n",
       "      <td>autumn is my favorite time of year to cook! th...</td>\n",
       "      <td>['winter squash', 'mexican seasoning', 'mixed ...</td>\n",
       "      <td>7</td>\n",
       "    </tr>\n",
       "    <tr>\n",
       "      <th>1</th>\n",
       "      <td>a bit different  breakfast pizza</td>\n",
       "      <td>31490</td>\n",
       "      <td>30</td>\n",
       "      <td>26278</td>\n",
       "      <td>2002-06-17</td>\n",
       "      <td>['30-minutes-or-less', 'time-to-make', 'course...</td>\n",
       "      <td>[173.4, 18.0, 0.0, 17.0, 22.0, 35.0, 1.0]</td>\n",
       "      <td>9</td>\n",
       "      <td>['preheat oven to 425 degrees f', 'press dough...</td>\n",
       "      <td>this recipe calls for the crust to be prebaked...</td>\n",
       "      <td>['prepared pizza crust', 'sausage patty', 'egg...</td>\n",
       "      <td>6</td>\n",
       "    </tr>\n",
       "    <tr>\n",
       "      <th>2</th>\n",
       "      <td>all in the kitchen  chili</td>\n",
       "      <td>112140</td>\n",
       "      <td>130</td>\n",
       "      <td>196586</td>\n",
       "      <td>2005-02-25</td>\n",
       "      <td>['time-to-make', 'course', 'preparation', 'mai...</td>\n",
       "      <td>[269.8, 22.0, 32.0, 48.0, 39.0, 27.0, 5.0]</td>\n",
       "      <td>6</td>\n",
       "      <td>['brown ground beef in large pot', 'add choppe...</td>\n",
       "      <td>this modified version of 'mom's' chili was a h...</td>\n",
       "      <td>['ground beef', 'yellow onions', 'diced tomato...</td>\n",
       "      <td>13</td>\n",
       "    </tr>\n",
       "    <tr>\n",
       "      <th>3</th>\n",
       "      <td>alouette  potatoes</td>\n",
       "      <td>59389</td>\n",
       "      <td>45</td>\n",
       "      <td>68585</td>\n",
       "      <td>2003-04-14</td>\n",
       "      <td>['60-minutes-or-less', 'time-to-make', 'course...</td>\n",
       "      <td>[368.1, 17.0, 10.0, 2.0, 14.0, 8.0, 20.0]</td>\n",
       "      <td>11</td>\n",
       "      <td>['place potatoes in a large pot of lightly sal...</td>\n",
       "      <td>this is a super easy, great tasting, make ahea...</td>\n",
       "      <td>['spreadable cheese with garlic and herbs', 'n...</td>\n",
       "      <td>11</td>\n",
       "    </tr>\n",
       "    <tr>\n",
       "      <th>4</th>\n",
       "      <td>amish  tomato ketchup  for canning</td>\n",
       "      <td>44061</td>\n",
       "      <td>190</td>\n",
       "      <td>41706</td>\n",
       "      <td>2002-10-25</td>\n",
       "      <td>['weeknight', 'time-to-make', 'course', 'main-...</td>\n",
       "      <td>[352.9, 1.0, 337.0, 23.0, 3.0, 0.0, 28.0]</td>\n",
       "      <td>5</td>\n",
       "      <td>['mix all ingredients&amp; boil for 2 1 / 2 hours ...</td>\n",
       "      <td>my dh's amish mother raised him on this recipe...</td>\n",
       "      <td>['tomato juice', 'apple cider vinegar', 'sugar...</td>\n",
       "      <td>8</td>\n",
       "    </tr>\n",
       "  </tbody>\n",
       "</table>\n",
       "</div>"
      ],
      "text/plain": [
       "                                         name      id  minutes  \\\n",
       "0  arriba   baked winter squash mexican style  137739       55   \n",
       "1            a bit different  breakfast pizza   31490       30   \n",
       "2                   all in the kitchen  chili  112140      130   \n",
       "3                          alouette  potatoes   59389       45   \n",
       "4          amish  tomato ketchup  for canning   44061      190   \n",
       "\n",
       "   contributor_id   submitted  \\\n",
       "0           47892  2005-09-16   \n",
       "1           26278  2002-06-17   \n",
       "2          196586  2005-02-25   \n",
       "3           68585  2003-04-14   \n",
       "4           41706  2002-10-25   \n",
       "\n",
       "                                                tags  \\\n",
       "0  ['60-minutes-or-less', 'time-to-make', 'course...   \n",
       "1  ['30-minutes-or-less', 'time-to-make', 'course...   \n",
       "2  ['time-to-make', 'course', 'preparation', 'mai...   \n",
       "3  ['60-minutes-or-less', 'time-to-make', 'course...   \n",
       "4  ['weeknight', 'time-to-make', 'course', 'main-...   \n",
       "\n",
       "                                    nutrition  n_steps  \\\n",
       "0       [51.5, 0.0, 13.0, 0.0, 2.0, 0.0, 4.0]       11   \n",
       "1   [173.4, 18.0, 0.0, 17.0, 22.0, 35.0, 1.0]        9   \n",
       "2  [269.8, 22.0, 32.0, 48.0, 39.0, 27.0, 5.0]        6   \n",
       "3   [368.1, 17.0, 10.0, 2.0, 14.0, 8.0, 20.0]       11   \n",
       "4   [352.9, 1.0, 337.0, 23.0, 3.0, 0.0, 28.0]        5   \n",
       "\n",
       "                                               steps  \\\n",
       "0  ['make a choice and proceed with recipe', 'dep...   \n",
       "1  ['preheat oven to 425 degrees f', 'press dough...   \n",
       "2  ['brown ground beef in large pot', 'add choppe...   \n",
       "3  ['place potatoes in a large pot of lightly sal...   \n",
       "4  ['mix all ingredients& boil for 2 1 / 2 hours ...   \n",
       "\n",
       "                                         description  \\\n",
       "0  autumn is my favorite time of year to cook! th...   \n",
       "1  this recipe calls for the crust to be prebaked...   \n",
       "2  this modified version of 'mom's' chili was a h...   \n",
       "3  this is a super easy, great tasting, make ahea...   \n",
       "4  my dh's amish mother raised him on this recipe...   \n",
       "\n",
       "                                         ingredients  n_ingredients  \n",
       "0  ['winter squash', 'mexican seasoning', 'mixed ...              7  \n",
       "1  ['prepared pizza crust', 'sausage patty', 'egg...              6  \n",
       "2  ['ground beef', 'yellow onions', 'diced tomato...             13  \n",
       "3  ['spreadable cheese with garlic and herbs', 'n...             11  \n",
       "4  ['tomato juice', 'apple cider vinegar', 'sugar...              8  "
      ]
     },
     "execution_count": 149,
     "metadata": {},
     "output_type": "execute_result"
    }
   ],
   "source": [
    "f.head()"
   ]
  },
  {
   "cell_type": "code",
   "execution_count": 150,
   "id": "6025bf10",
   "metadata": {},
   "outputs": [
    {
     "data": {
      "text/plain": [
       "231637"
      ]
     },
     "execution_count": 150,
     "metadata": {},
     "output_type": "execute_result"
    }
   ],
   "source": [
    "f.shape[0]"
   ]
  },
  {
   "cell_type": "markdown",
   "id": "aa393946",
   "metadata": {},
   "source": [
    "## Most similar recipe"
   ]
  },
  {
   "cell_type": "code",
   "execution_count": 183,
   "id": "4686b246",
   "metadata": {},
   "outputs": [],
   "source": [
    "iPerR = defaultdict(set)\n",
    "rPerI = defaultdict(set)"
   ]
  },
  {
   "cell_type": "code",
   "execution_count": 184,
   "id": "1146cb4e",
   "metadata": {},
   "outputs": [],
   "source": [
    "for j in range(f.shape[0]):\n",
    "    ingredientList = eval(f[\"ingredients\"][j])\n",
    "    for i in range(len(ingredientList)):\n",
    "        ingredient, recipe = ingredientList[i], f['name'][j]\n",
    "        iPerR[recipe].add(ingredient)\n",
    "        rPerI[ingredient].add(recipe)"
   ]
  },
  {
   "cell_type": "code",
   "execution_count": 185,
   "id": "785dbbde",
   "metadata": {},
   "outputs": [],
   "source": [
    "def Jaccard(s1, s2):\n",
    "    numer = len(s1.intersection(s2))\n",
    "    denom = len(s1.union(s2))\n",
    "    return numer / denom"
   ]
  },
  {
   "cell_type": "code",
   "execution_count": 186,
   "id": "e74f26e9",
   "metadata": {},
   "outputs": [],
   "source": [
    "def mostSimilar_recipe(i):\n",
    "    similarities = []\n",
    "    ing = iPerR[i]\n",
    "    for i2 in iPerR:\n",
    "        if i2 == i: continue\n",
    "        sim = Jaccard(ing, iPerR[i2])\n",
    "        similarities.append((sim,i2))\n",
    "    similarities.sort(key=lambda x: (-x[0]))\n",
    "    return similarities[:5]"
   ]
  },
  {
   "cell_type": "code",
   "execution_count": 193,
   "id": "cfb6da32",
   "metadata": {},
   "outputs": [],
   "source": [
    "query = f['name'][500]"
   ]
  },
  {
   "cell_type": "code",
   "execution_count": 194,
   "id": "cadbf63c",
   "metadata": {},
   "outputs": [
    {
     "data": {
      "text/plain": [
       "'perfect chocolate cake  mccall s cooking school'"
      ]
     },
     "execution_count": 194,
     "metadata": {},
     "output_type": "execute_result"
    }
   ],
   "source": [
    "query"
   ]
  },
  {
   "cell_type": "code",
   "execution_count": 244,
   "id": "28d42804",
   "metadata": {},
   "outputs": [
    {
     "data": {
      "text/plain": [
       "{'all-purpose flour',\n",
       " 'baking powder',\n",
       " 'baking soda',\n",
       " 'boiling water',\n",
       " 'butter',\n",
       " \"confectioners' sugar\",\n",
       " 'eggs',\n",
       " 'heavy cream',\n",
       " 'light cream',\n",
       " 'salt',\n",
       " 'semisweet chocolate pieces',\n",
       " 'sugar',\n",
       " 'unsweetened cocoa',\n",
       " 'vanilla',\n",
       " 'vanilla extract'}"
      ]
     },
     "execution_count": 244,
     "metadata": {},
     "output_type": "execute_result"
    }
   ],
   "source": [
    "iPerR['perfect chocolate cake  mccall s cooking school']"
   ]
  },
  {
   "cell_type": "code",
   "execution_count": 245,
   "id": "7e1b17dc",
   "metadata": {},
   "outputs": [
    {
     "data": {
      "text/plain": [
       "{'all-purpose flour',\n",
       " 'baking powder',\n",
       " 'baking soda',\n",
       " 'boiling water',\n",
       " 'butter',\n",
       " 'buttermilk',\n",
       " 'eggs',\n",
       " 'heavy cream',\n",
       " 'mexican chocolate',\n",
       " 'pecans',\n",
       " 'salt',\n",
       " 'sugar',\n",
       " 'unsweetened cocoa',\n",
       " 'vanilla extract'}"
      ]
     },
     "execution_count": 245,
     "metadata": {},
     "output_type": "execute_result"
    }
   ],
   "source": [
    "iPerR['tex mex chocolate sheet cake   the best']"
   ]
  },
  {
   "cell_type": "code",
   "execution_count": 195,
   "id": "90d697e0",
   "metadata": {},
   "outputs": [
    {
     "data": {
      "text/plain": [
       "[(0.6111111111111112, 'tex mex chocolate sheet cake   the best'),\n",
       " (0.5333333333333333, 'wanda s cutout cream cookies'),\n",
       " (0.5294117647058824, 'hershey s chocolate chocolate cake'),\n",
       " (0.5294117647058824, 'rich chocolate cake'),\n",
       " (0.5263157894736842, 'best chocolate cake with creamy chocolate frosting')]"
      ]
     },
     "execution_count": 195,
     "metadata": {},
     "output_type": "execute_result"
    }
   ],
   "source": [
    "mostSimilar_recipe(query)"
   ]
  },
  {
   "cell_type": "markdown",
   "id": "cd1f087e",
   "metadata": {},
   "source": [
    "## Most similar ingredient"
   ]
  },
  {
   "cell_type": "code",
   "execution_count": 181,
   "id": "1ea378e5",
   "metadata": {},
   "outputs": [],
   "source": [
    "def mostSimilar_ingredient(i):\n",
    "    similarities = []\n",
    "    reci = rPerI[i]\n",
    "    for i2 in rPerI:\n",
    "        if i2 == i: continue\n",
    "        sim = Jaccard(reci, rPerI[i2])\n",
    "        similarities.append((sim,i2))\n",
    "    similarities.sort(key=lambda x: (-x[0], x[1]))\n",
    "    return similarities[:5]"
   ]
  },
  {
   "cell_type": "code",
   "execution_count": 264,
   "id": "789abb1d",
   "metadata": {},
   "outputs": [
    {
     "data": {
      "text/plain": [
       "[(0.02, 'grenadine'),\n",
       " (0.01702127659574468, 'blue curacao'),\n",
       " (0.016304347826086956, 'cherry juice'),\n",
       " (0.015957446808510637, 'kirsch'),\n",
       " (0.015086206896551725, 'orange slice')]"
      ]
     },
     "execution_count": 264,
     "metadata": {},
     "output_type": "execute_result"
    }
   ],
   "source": [
    "mostSimilar_ingredient('cherries')"
   ]
  },
  {
   "cell_type": "markdown",
   "id": "5bf2c2f0",
   "metadata": {},
   "source": [
    "## Recommendation"
   ]
  },
  {
   "cell_type": "markdown",
   "id": "d978181b",
   "metadata": {},
   "source": [
    "### Just use similarity"
   ]
  },
  {
   "cell_type": "code",
   "execution_count": 196,
   "id": "b92450d8",
   "metadata": {},
   "outputs": [],
   "source": [
    "ing = {'fcinnamon', \n",
    "      'cherries', \n",
    "      'butterscotch', \n",
    "      'vodkag'}"
   ]
  },
  {
   "cell_type": "code",
   "execution_count": 198,
   "id": "fbb61e4b",
   "metadata": {},
   "outputs": [
    {
     "name": "stdout",
     "output_type": "stream",
     "text": [
      "(0.16666666666666666, '3 ingredient dump cake', {'yellow cake mix', 'cherries', 'butter'})\n",
      "(0.16666666666666666, 'alli s rob roy', {'scotch', 'cherries', 'sweet vermouth'})\n",
      "(0.16666666666666666, 'dark cherry cream syrup', {'sugar', 'whipping cream', 'cherries'})\n",
      "(0.16666666666666666, 'dark fruit salad', {'light brown sugar', 'cherries', 'light vanilla yogurt'})\n",
      "(0.16666666666666666, 'easy orange julius', {'milk', 'cherries', 'orange juice'})\n"
     ]
    }
   ],
   "source": [
    "similarities2 = []\n",
    "for i2 in iPerR:\n",
    "    sim = Jaccard(ing, iPerR[i2])\n",
    "    similarities2.append((sim,i2,iPerR[i2]))\n",
    "similarities2.sort(key=lambda x: (-x[0]))\n",
    "for j in range(5):\n",
    "    print(similarities2[j])"
   ]
  },
  {
   "cell_type": "code",
   "execution_count": null,
   "id": "86600377",
   "metadata": {},
   "outputs": [],
   "source": []
  },
  {
   "cell_type": "code",
   "execution_count": null,
   "id": "c2c764dc",
   "metadata": {},
   "outputs": [],
   "source": []
  },
  {
   "cell_type": "markdown",
   "id": "dfb3d876",
   "metadata": {},
   "source": [
    "### Rank all the ingredients"
   ]
  },
  {
   "cell_type": "code",
   "execution_count": 203,
   "id": "09e3bdad",
   "metadata": {},
   "outputs": [],
   "source": [
    "ingredients = []\n",
    "for i in range(f.shape[0]):\n",
    "    ingredients.extend(eval(f['ingredients'][i]))"
   ]
  },
  {
   "cell_type": "code",
   "execution_count": 205,
   "id": "6d074820",
   "metadata": {},
   "outputs": [],
   "source": [
    "dict = {}\n",
    "for key in ingredients:\n",
    "    dict[key] = dict.get(key, 0) + 1"
   ]
  },
  {
   "cell_type": "code",
   "execution_count": 206,
   "id": "09d6b681",
   "metadata": {},
   "outputs": [],
   "source": [
    "ingredients_sort = sorted(dict.items(), key=lambda x: x[1], reverse=True)"
   ]
  },
  {
   "cell_type": "code",
   "execution_count": 207,
   "id": "3d08318f",
   "metadata": {},
   "outputs": [],
   "source": [
    "ingredient_top50 = []\n",
    "for i in range(50):\n",
    "    ingredient_top50.append(ingredients_sort[i][0])"
   ]
  },
  {
   "cell_type": "code",
   "execution_count": 246,
   "id": "829bad7c",
   "metadata": {},
   "outputs": [
    {
     "data": {
      "text/plain": [
       "['salt',\n",
       " 'butter',\n",
       " 'sugar',\n",
       " 'onion',\n",
       " 'water',\n",
       " 'eggs',\n",
       " 'olive oil',\n",
       " 'flour',\n",
       " 'milk',\n",
       " 'garlic cloves']"
      ]
     },
     "execution_count": 246,
     "metadata": {},
     "output_type": "execute_result"
    }
   ],
   "source": [
    "ingredient_top50[0:10]"
   ]
  },
  {
   "cell_type": "code",
   "execution_count": 249,
   "id": "ee085d55",
   "metadata": {},
   "outputs": [
    {
     "data": {
      "text/plain": [
       "44535"
      ]
     },
     "execution_count": 249,
     "metadata": {},
     "output_type": "execute_result"
    }
   ],
   "source": [
    "dict['sugar']"
   ]
  },
  {
   "cell_type": "code",
   "execution_count": 256,
   "id": "00fe0b16",
   "metadata": {},
   "outputs": [
    {
     "data": {
      "image/png": "[encoded data removed]",
      "text/plain": [
       "<Figure size 432x288 with 1 Axes>"
      ]
     },
     "metadata": {
      "needs_background": "light"
     },
     "output_type": "display_data"
    }
   ],
   "source": [
    "num_list = [dict[i] for i in ingredient_top50[0:10]]\n",
    "plt.barh(range(len(num_list)), num_list, tick_label = ingredient_top50[0:10])\n",
    "plt.savefig('top10.jpg')\n",
    "plt.show()"
   ]
  },
  {
   "cell_type": "markdown",
   "id": "a579400a",
   "metadata": {},
   "source": [
    "Now the problem is that some ingredients does not exist in the dataset. We need to find similar ingredients.\n",
    "What I did in this step is to find some similar ingredients as new input."
   ]
  },
  {
   "cell_type": "code",
   "execution_count": 227,
   "id": "95f316fa",
   "metadata": {},
   "outputs": [],
   "source": [
    "new = []"
   ]
  },
  {
   "cell_type": "code",
   "execution_count": 228,
   "id": "76db01f1",
   "metadata": {},
   "outputs": [],
   "source": [
    "s = 'butterscotch'\n",
    "for i in dict:\n",
    "    if s.find(i) != -1:\n",
    "        if dict[i] > 300:\n",
    "            new.append(i)   "
   ]
  },
  {
   "cell_type": "code",
   "execution_count": 229,
   "id": "45ece97e",
   "metadata": {},
   "outputs": [],
   "source": [
    "s = 'fcinnamon'\n",
    "for i in dict:\n",
    "    if s.find(i) != -1:\n",
    "        if dict[i] > 300:\n",
    "            new.append(i) "
   ]
  },
  {
   "cell_type": "code",
   "execution_count": 230,
   "id": "b147bfb4",
   "metadata": {},
   "outputs": [],
   "source": [
    "s = 'vodkag'\n",
    "for i in dict:\n",
    "    if s.find(i) != -1:\n",
    "         if dict[i] > 300:\n",
    "            new.append(i)"
   ]
  },
  {
   "cell_type": "code",
   "execution_count": 231,
   "id": "323d179d",
   "metadata": {},
   "outputs": [
    {
     "data": {
      "text/plain": [
       "['butter', 'cinnamon', 'vodka']"
      ]
     },
     "execution_count": 231,
     "metadata": {},
     "output_type": "execute_result"
    }
   ],
   "source": [
    "new"
   ]
  },
  {
   "cell_type": "code",
   "execution_count": 232,
   "id": "13957af9",
   "metadata": {},
   "outputs": [],
   "source": [
    "dict2 = {}\n",
    "for key in dict:\n",
    "    if key.find('butterscotch') != -1:\n",
    "        dict2[key] = dict[key]\n",
    "ww = sorted(dict2.items(), key=lambda x: x[1], reverse=True)\n",
    "if dict[ww[0][0]] > 300:\n",
    "    new.append(ww[0][0])"
   ]
  },
  {
   "cell_type": "code",
   "execution_count": 233,
   "id": "6c6b2d57",
   "metadata": {},
   "outputs": [],
   "source": [
    "dict3 = {}\n",
    "for key in dict:\n",
    "    if key == 'cinnamon': continue\n",
    "    if key.find('cinnamon') != -1:\n",
    "        dict3[key] = dict[key]\n",
    "ww2 = sorted(dict3.items(), key=lambda x: x[1], reverse=True)\n",
    "if dict[ww2[0][0]] > 300:\n",
    "    new.append(ww2[0][0])"
   ]
  },
  {
   "cell_type": "code",
   "execution_count": 234,
   "id": "3859f756",
   "metadata": {},
   "outputs": [],
   "source": [
    "dict4 = {}\n",
    "for key in dict:\n",
    "    if key == 'vodka': continue\n",
    "    if key.find('vodka') != -1:\n",
    "        dict4[key] = dict[key]\n",
    "ww3 = sorted(dict4.items(), key=lambda x: x[1], reverse=True)\n",
    "if dict[ww3[0][0]] > 300:\n",
    "    new.append(ww3[0][0])"
   ]
  },
  {
   "cell_type": "code",
   "execution_count": 235,
   "id": "1f721c37",
   "metadata": {},
   "outputs": [],
   "source": [
    "new.append('cherries')"
   ]
  },
  {
   "cell_type": "code",
   "execution_count": 236,
   "id": "903b1c90",
   "metadata": {},
   "outputs": [
    {
     "data": {
      "text/plain": [
       "['butter',\n",
       " 'cinnamon',\n",
       " 'vodka',\n",
       " 'butterscotch chips',\n",
       " 'ground cinnamon',\n",
       " 'cherries']"
      ]
     },
     "execution_count": 236,
     "metadata": {},
     "output_type": "execute_result"
    }
   ],
   "source": [
    "new"
   ]
  },
  {
   "cell_type": "code",
   "execution_count": 237,
   "id": "0c67605a",
   "metadata": {},
   "outputs": [],
   "source": [
    "ing = set(new)"
   ]
  },
  {
   "cell_type": "code",
   "execution_count": 240,
   "id": "85faee47",
   "metadata": {},
   "outputs": [],
   "source": [
    "def similarity(s1, s2):\n",
    "    numer = len(s1.intersection(s2))\n",
    "    denom = len(s1.union(s2))\n",
    "    return numer / denom"
   ]
  },
  {
   "cell_type": "code",
   "execution_count": 241,
   "id": "690507a8",
   "metadata": {},
   "outputs": [
    {
     "name": "stdout",
     "output_type": "stream",
     "text": [
      "(0.375, 'easy bake oven baked apple', {'butter', 'sugar', 'cinnamon', 'apple', 'ground cinnamon'})\n",
      "(0.375, 'warm fruit', {'butter', 'cinnamon', 'blueberries', 'pears', 'cherries'})\n",
      "(0.3333333333333333, 'easy bake oven butterscotch candy', {'butter', 'butterscotch chips'})\n",
      "(0.3, 'sour cherry pie', {'butter', 'sugar', 'cinnamon', 'cherries', 'salt', 'minute tapioca', 'flour'})\n",
      "(0.2857142857142857, '3 ingredient dump cake', {'yellow cake mix', 'cherries', 'butter'})\n"
     ]
    }
   ],
   "source": [
    "similarities2 = []\n",
    "for i2 in iPerR:\n",
    "    sim = similarity(ing, iPerR[i2])\n",
    "    similarities2.append((sim,i2,iPerR[i2]))\n",
    "similarities2.sort(key=lambda x: (-x[0]))\n",
    "for j in range(5):\n",
    "    print(similarities2[j])"
   ]
  },
  {
   "cell_type": "code",
   "execution_count": null,
   "id": "94a77361",
   "metadata": {},
   "outputs": [],
   "source": []
  }
 ],
 "metadata": {
  "kernelspec": {
   "display_name": "Python 3 (ipykernel)",
   "language": "python",
   "name": "python3"
  },
  "language_info": {
   "codemirror_mode": {
    "name": "ipython",
    "version": 3
   },
   "file_extension": ".py",
   "mimetype": "text/x-python",
   "name": "python",
   "nbconvert_exporter": "python",
   "pygments_lexer": "ipython3",
   "version": "3.9.7"
  }
 },
 "nbformat": 4,
 "nbformat_minor": 5
}
