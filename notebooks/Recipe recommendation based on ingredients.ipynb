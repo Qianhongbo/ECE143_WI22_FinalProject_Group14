{
 "cells": [
  {
   "cell_type": "code",
   "execution_count": 1,
   "id": "f52382b0",
   "metadata": {},
   "outputs": [],
   "source": [
    "import numpy as np\n",
    "import pandas as pd\n",
    "import matplotlib.pyplot as plt\n",
    "from collections import defaultdict\n",
    "import seaborn as sns"
   ]
  },
  {
   "cell_type": "code",
   "execution_count": 23,
   "id": "e8cb5b98",
   "metadata": {},
   "outputs": [],
   "source": [
    "sns.set_theme( palette=\"pastel\")"
   ]
  },
  {
   "cell_type": "markdown",
   "id": "6b2eb5fd",
   "metadata": {},
   "source": [
    "## Read data from the dataset."
   ]
  },
  {
   "cell_type": "code",
   "execution_count": 6,
   "id": "fca979c1",
   "metadata": {},
   "outputs": [],
   "source": [
    "f = pd.read_csv('RAW_recipes.csv')"
   ]
  },
  {
   "cell_type": "code",
   "execution_count": 7,
   "id": "89c220fc",
   "metadata": {},
   "outputs": [
    {
     "data": {
      "text/html": [
       "<div>\n",
       "<style scoped>\n",
       "    .dataframe tbody tr th:only-of-type {\n",
       "        vertical-align: middle;\n",
       "    }\n",
       "\n",
       "    .dataframe tbody tr th {\n",
       "        vertical-align: top;\n",
       "    }\n",
       "\n",
       "    .dataframe thead th {\n",
       "        text-align: right;\n",
       "    }\n",
       "</style>\n",
       "<table border=\"1\" class=\"dataframe\">\n",
       "  <thead>\n",
       "    <tr style=\"text-align: right;\">\n",
       "      <th></th>\n",
       "      <th>name</th>\n",
       "      <th>id</th>\n",
       "      <th>minutes</th>\n",
       "      <th>contributor_id</th>\n",
       "      <th>submitted</th>\n",
       "      <th>tags</th>\n",
       "      <th>nutrition</th>\n",
       "      <th>n_steps</th>\n",
       "      <th>steps</th>\n",
       "      <th>description</th>\n",
       "      <th>ingredients</th>\n",
       "      <th>n_ingredients</th>\n",
       "    </tr>\n",
       "  </thead>\n",
       "  <tbody>\n",
       "    <tr>\n",
       "      <th>0</th>\n",
       "      <td>arriba   baked winter squash mexican style</td>\n",
       "      <td>137739</td>\n",
       "      <td>55</td>\n",
       "      <td>47892</td>\n",
       "      <td>2005-09-16</td>\n",
       "      <td>['60-minutes-or-less', 'time-to-make', 'course...</td>\n",
       "      <td>[51.5, 0.0, 13.0, 0.0, 2.0, 0.0, 4.0]</td>\n",
       "      <td>11</td>\n",
       "      <td>['make a choice and proceed with recipe', 'dep...</td>\n",
       "      <td>autumn is my favorite time of year to cook! th...</td>\n",
       "      <td>['winter squash', 'mexican seasoning', 'mixed ...</td>\n",
       "      <td>7</td>\n",
       "    </tr>\n",
       "    <tr>\n",
       "      <th>1</th>\n",
       "      <td>a bit different  breakfast pizza</td>\n",
       "      <td>31490</td>\n",
       "      <td>30</td>\n",
       "      <td>26278</td>\n",
       "      <td>2002-06-17</td>\n",
       "      <td>['30-minutes-or-less', 'time-to-make', 'course...</td>\n",
       "      <td>[173.4, 18.0, 0.0, 17.0, 22.0, 35.0, 1.0]</td>\n",
       "      <td>9</td>\n",
       "      <td>['preheat oven to 425 degrees f', 'press dough...</td>\n",
       "      <td>this recipe calls for the crust to be prebaked...</td>\n",
       "      <td>['prepared pizza crust', 'sausage patty', 'egg...</td>\n",
       "      <td>6</td>\n",
       "    </tr>\n",
       "    <tr>\n",
       "      <th>2</th>\n",
       "      <td>all in the kitchen  chili</td>\n",
       "      <td>112140</td>\n",
       "      <td>130</td>\n",
       "      <td>196586</td>\n",
       "      <td>2005-02-25</td>\n",
       "      <td>['time-to-make', 'course', 'preparation', 'mai...</td>\n",
       "      <td>[269.8, 22.0, 32.0, 48.0, 39.0, 27.0, 5.0]</td>\n",
       "      <td>6</td>\n",
       "      <td>['brown ground beef in large pot', 'add choppe...</td>\n",
       "      <td>this modified version of 'mom's' chili was a h...</td>\n",
       "      <td>['ground beef', 'yellow onions', 'diced tomato...</td>\n",
       "      <td>13</td>\n",
       "    </tr>\n",
       "    <tr>\n",
       "      <th>3</th>\n",
       "      <td>alouette  potatoes</td>\n",
       "      <td>59389</td>\n",
       "      <td>45</td>\n",
       "      <td>68585</td>\n",
       "      <td>2003-04-14</td>\n",
       "      <td>['60-minutes-or-less', 'time-to-make', 'course...</td>\n",
       "      <td>[368.1, 17.0, 10.0, 2.0, 14.0, 8.0, 20.0]</td>\n",
       "      <td>11</td>\n",
       "      <td>['place potatoes in a large pot of lightly sal...</td>\n",
       "      <td>this is a super easy, great tasting, make ahea...</td>\n",
       "      <td>['spreadable cheese with garlic and herbs', 'n...</td>\n",
       "      <td>11</td>\n",
       "    </tr>\n",
       "    <tr>\n",
       "      <th>4</th>\n",
       "      <td>amish  tomato ketchup  for canning</td>\n",
       "      <td>44061</td>\n",
       "      <td>190</td>\n",
       "      <td>41706</td>\n",
       "      <td>2002-10-25</td>\n",
       "      <td>['weeknight', 'time-to-make', 'course', 'main-...</td>\n",
       "      <td>[352.9, 1.0, 337.0, 23.0, 3.0, 0.0, 28.0]</td>\n",
       "      <td>5</td>\n",
       "      <td>['mix all ingredients&amp; boil for 2 1 / 2 hours ...</td>\n",
       "      <td>my dh's amish mother raised him on this recipe...</td>\n",
       "      <td>['tomato juice', 'apple cider vinegar', 'sugar...</td>\n",
       "      <td>8</td>\n",
       "    </tr>\n",
       "  </tbody>\n",
       "</table>\n",
       "</div>"
      ],
      "text/plain": [
       "                                         name      id  minutes  \\\n",
       "0  arriba   baked winter squash mexican style  137739       55   \n",
       "1            a bit different  breakfast pizza   31490       30   \n",
       "2                   all in the kitchen  chili  112140      130   \n",
       "3                          alouette  potatoes   59389       45   \n",
       "4          amish  tomato ketchup  for canning   44061      190   \n",
       "\n",
       "   contributor_id   submitted  \\\n",
       "0           47892  2005-09-16   \n",
       "1           26278  2002-06-17   \n",
       "2          196586  2005-02-25   \n",
       "3           68585  2003-04-14   \n",
       "4           41706  2002-10-25   \n",
       "\n",
       "                                                tags  \\\n",
       "0  ['60-minutes-or-less', 'time-to-make', 'course...   \n",
       "1  ['30-minutes-or-less', 'time-to-make', 'course...   \n",
       "2  ['time-to-make', 'course', 'preparation', 'mai...   \n",
       "3  ['60-minutes-or-less', 'time-to-make', 'course...   \n",
       "4  ['weeknight', 'time-to-make', 'course', 'main-...   \n",
       "\n",
       "                                    nutrition  n_steps  \\\n",
       "0       [51.5, 0.0, 13.0, 0.0, 2.0, 0.0, 4.0]       11   \n",
       "1   [173.4, 18.0, 0.0, 17.0, 22.0, 35.0, 1.0]        9   \n",
       "2  [269.8, 22.0, 32.0, 48.0, 39.0, 27.0, 5.0]        6   \n",
       "3   [368.1, 17.0, 10.0, 2.0, 14.0, 8.0, 20.0]       11   \n",
       "4   [352.9, 1.0, 337.0, 23.0, 3.0, 0.0, 28.0]        5   \n",
       "\n",
       "                                               steps  \\\n",
       "0  ['make a choice and proceed with recipe', 'dep...   \n",
       "1  ['preheat oven to 425 degrees f', 'press dough...   \n",
       "2  ['brown ground beef in large pot', 'add choppe...   \n",
       "3  ['place potatoes in a large pot of lightly sal...   \n",
       "4  ['mix all ingredients& boil for 2 1 / 2 hours ...   \n",
       "\n",
       "                                         description  \\\n",
       "0  autumn is my favorite time of year to cook! th...   \n",
       "1  this recipe calls for the crust to be prebaked...   \n",
       "2  this modified version of 'mom's' chili was a h...   \n",
       "3  this is a super easy, great tasting, make ahea...   \n",
       "4  my dh's amish mother raised him on this recipe...   \n",
       "\n",
       "                                         ingredients  n_ingredients  \n",
       "0  ['winter squash', 'mexican seasoning', 'mixed ...              7  \n",
       "1  ['prepared pizza crust', 'sausage patty', 'egg...              6  \n",
       "2  ['ground beef', 'yellow onions', 'diced tomato...             13  \n",
       "3  ['spreadable cheese with garlic and herbs', 'n...             11  \n",
       "4  ['tomato juice', 'apple cider vinegar', 'sugar...              8  "
      ]
     },
     "execution_count": 7,
     "metadata": {},
     "output_type": "execute_result"
    }
   ],
   "source": [
    "f.head()"
   ]
  },
  {
   "cell_type": "code",
   "execution_count": 8,
   "id": "6025bf10",
   "metadata": {},
   "outputs": [
    {
     "data": {
      "text/plain": [
       "231637"
      ]
     },
     "execution_count": 8,
     "metadata": {},
     "output_type": "execute_result"
    }
   ],
   "source": [
    "f.shape[0]"
   ]
  },
  {
   "cell_type": "markdown",
   "id": "aa393946",
   "metadata": {},
   "source": [
    "## Most similar recipe"
   ]
  },
  {
   "cell_type": "code",
   "execution_count": 9,
   "id": "4686b246",
   "metadata": {},
   "outputs": [],
   "source": [
    "iPerR = defaultdict(set)\n",
    "rPerI = defaultdict(set)"
   ]
  },
  {
   "cell_type": "code",
   "execution_count": 10,
   "id": "1146cb4e",
   "metadata": {},
   "outputs": [],
   "source": [
    "for j in range(f.shape[0]):\n",
    "    ingredientList = eval(f[\"ingredients\"][j])\n",
    "    for i in range(len(ingredientList)):\n",
    "        ingredient, recipe = ingredientList[i], f['name'][j]\n",
    "        iPerR[recipe].add(ingredient)\n",
    "        rPerI[ingredient].add(recipe)"
   ]
  },
  {
   "cell_type": "code",
   "execution_count": 11,
   "id": "785dbbde",
   "metadata": {},
   "outputs": [],
   "source": [
    "def Jaccard(s1, s2):\n",
    "    numer = len(s1.intersection(s2))\n",
    "    denom = len(s1.union(s2))\n",
    "    return numer / denom"
   ]
  },
  {
   "cell_type": "code",
   "execution_count": 12,
   "id": "e74f26e9",
   "metadata": {},
   "outputs": [],
   "source": [
    "def mostSimilar_recipe(i):\n",
    "    similarities = []\n",
    "    ing = iPerR[i]\n",
    "    for i2 in iPerR:\n",
    "        if i2 == i: continue\n",
    "        sim = Jaccard(ing, iPerR[i2])\n",
    "        similarities.append((sim,i2))\n",
    "    similarities.sort(key=lambda x: (-x[0]))\n",
    "    return similarities[:5]"
   ]
  },
  {
   "cell_type": "code",
   "execution_count": 13,
   "id": "cfb6da32",
   "metadata": {},
   "outputs": [],
   "source": [
    "query = f['name'][500]"
   ]
  },
  {
   "cell_type": "code",
   "execution_count": 14,
   "id": "cadbf63c",
   "metadata": {},
   "outputs": [
    {
     "data": {
      "text/plain": [
       "'perfect chocolate cake  mccall s cooking school'"
      ]
     },
     "execution_count": 14,
     "metadata": {},
     "output_type": "execute_result"
    }
   ],
   "source": [
    "query"
   ]
  },
  {
   "cell_type": "code",
   "execution_count": 15,
   "id": "28d42804",
   "metadata": {},
   "outputs": [
    {
     "data": {
      "text/plain": [
       "{'all-purpose flour',\n",
       " 'baking powder',\n",
       " 'baking soda',\n",
       " 'boiling water',\n",
       " 'butter',\n",
       " \"confectioners' sugar\",\n",
       " 'eggs',\n",
       " 'heavy cream',\n",
       " 'light cream',\n",
       " 'salt',\n",
       " 'semisweet chocolate pieces',\n",
       " 'sugar',\n",
       " 'unsweetened cocoa',\n",
       " 'vanilla',\n",
       " 'vanilla extract'}"
      ]
     },
     "execution_count": 15,
     "metadata": {},
     "output_type": "execute_result"
    }
   ],
   "source": [
    "iPerR['perfect chocolate cake  mccall s cooking school']"
   ]
  },
  {
   "cell_type": "code",
   "execution_count": 16,
   "id": "7e1b17dc",
   "metadata": {},
   "outputs": [
    {
     "data": {
      "text/plain": [
       "{'all-purpose flour',\n",
       " 'baking powder',\n",
       " 'baking soda',\n",
       " 'boiling water',\n",
       " 'butter',\n",
       " 'buttermilk',\n",
       " 'eggs',\n",
       " 'heavy cream',\n",
       " 'mexican chocolate',\n",
       " 'pecans',\n",
       " 'salt',\n",
       " 'sugar',\n",
       " 'unsweetened cocoa',\n",
       " 'vanilla extract'}"
      ]
     },
     "execution_count": 16,
     "metadata": {},
     "output_type": "execute_result"
    }
   ],
   "source": [
    "iPerR['tex mex chocolate sheet cake   the best']"
   ]
  },
  {
   "cell_type": "code",
   "execution_count": 17,
   "id": "90d697e0",
   "metadata": {},
   "outputs": [],
   "source": [
    "theList = mostSimilar_recipe(query)"
   ]
  },
  {
   "cell_type": "code",
   "execution_count": 32,
   "id": "4456b103",
   "metadata": {},
   "outputs": [
    {
     "data": {
      "image/png": "[encoded data removed]",
      "text/plain": [
       "<Figure size 432x288 with 1 Axes>"
      ]
     },
     "metadata": {},
     "output_type": "display_data"
    },
    {
     "data": {
      "image/png": "[encoded data removed]",
      "text/plain": [
       "<Figure size 432x288 with 1 Axes>"
      ]
     },
     "metadata": {},
     "output_type": "display_data"
    }
   ],
   "source": [
    "list1 = eval(f.iloc[f[f.name == theList[0][1]].index.tolist()[0]][\"nutrition\"])\n",
    "list2 = eval(f.iloc[f[f.name == theList[1][1]].index.tolist()[0]][\"nutrition\"])\n",
    "list3 = eval(f.iloc[f[f.name == theList[2][1]].index.tolist()[0]][\"nutrition\"])\n",
    "list4 = eval(f.iloc[f[f.name == theList[3][1]].index.tolist()[0]][\"nutrition\"])\n",
    "list5 = eval(f.iloc[f[f.name == theList[4][1]].index.tolist()[0]][\"nutrition\"])\n",
    "\n",
    "x = [1, 2, 3, 4, 5]\n",
    "k1 = [list1[0], list2[0], list3[0], list4[0], list5[0]]\n",
    "plt.plot(x, k1, 's-', color='r', label=\"calories\", linewidth = 5)\n",
    "plt.xticks(x)\n",
    "plt.xlabel(\"Recipe Number\")\n",
    "plt.ylabel(\"Content(g/mg)\")\n",
    "plt.legend(loc=\"best\")\n",
    "plt.grid()\n",
    "plt.savefig(\"Recipe number vs. Calories.jpg\", dpi=1000)\n",
    "plt.show()\n",
    "\n",
    "x = [1, 2, 3, 4, 5]\n",
    "k2 = [list1[1],list2[1],list3[1],list4[1],list5[1]]\n",
    "k3 = [list1[2],list2[2],list3[2],list4[2],list5[2]]\n",
    "k4 = [list1[3],list2[3],list3[3],list4[3],list5[3]]\n",
    "k5 = [list1[4],list2[4],list3[4],list4[4],list5[4]]\n",
    "plt.xticks(x)\n",
    "plt.plot(x,k2,'o-',color = 'g',label=\"total fat\", linewidth = 5)\n",
    "plt.plot(x,k3,'o-',color = 'b',label=\"sugar\", linewidth = 5)\n",
    "plt.plot(x,k4,'o-',color = 'y',label=\"sodium\", linewidth = 5)\n",
    "plt.plot(x,k5,'o-',color = 'c',label=\"protein\", linewidth = 5)\n",
    "plt.xlabel(\"Recipe Number\")\n",
    "plt.ylabel(\"Content(g/mg)\")\n",
    "plt.legend(loc=\"best\")\n",
    "plt.savefig(\"Recipe number vs. content.jpg\", dpi=1000)\n",
    "plt.show()"
   ]
  },
  {
   "cell_type": "code",
   "execution_count": 40,
   "id": "5f53ce06",
   "metadata": {},
   "outputs": [
    {
     "data": {
      "image/png": "[encoded data removed]",
      "text/plain": [
       "<Figure size 432x288 with 1 Axes>"
      ]
     },
     "metadata": {},
     "output_type": "display_data"
    }
   ],
   "source": [
    "k1, k2 = [], []\n",
    "for i in range(5):\n",
    "    k1.append(f.iloc[f[f.name == theList[i][1]].index.tolist()[0]][\"minutes\"])\n",
    "    k2.append(f.iloc[f[f.name == theList[i][1]].index.tolist()[0]][\"n_steps\"])\n",
    "fig, ax = plt.subplots()\n",
    "x = [1, 2, 3, 4, 5]\n",
    "ax.bar(np.arange(5), k1, tick_label=x, width=0.45, label='time')\n",
    "ax.bar(np.arange(5) + 0.45, k2, tick_label=x, width=0.45, label='steps')\n",
    "plt.xlabel(\"Recipe Number\")\n",
    "plt.ylabel(\"time/steps number\")\n",
    "ax.legend()\n",
    "plt.savefig(\"Recipe number vs. time or steps.jpg\", dpi=1000)\n",
    "plt.show()"
   ]
  },
  {
   "cell_type": "code",
   "execution_count": null,
   "id": "8c32bc86",
   "metadata": {},
   "outputs": [],
   "source": []
  },
  {
   "cell_type": "code",
   "execution_count": null,
   "id": "ea76ffdc",
   "metadata": {},
   "outputs": [],
   "source": []
  },
  {
   "cell_type": "code",
   "execution_count": null,
   "id": "211f388f",
   "metadata": {},
   "outputs": [],
   "source": []
  },
  {
   "cell_type": "markdown",
   "id": "cd1f087e",
   "metadata": {},
   "source": [
    "## Most similar ingredient"
   ]
  },
  {
   "cell_type": "code",
   "execution_count": 200,
   "id": "1ea378e5",
   "metadata": {},
   "outputs": [],
   "source": [
    "def mostSimilar_ingredient(i):\n",
    "    similarities = []\n",
    "    reci = rPerI[i]\n",
    "    for i2 in rPerI:\n",
    "        if i2 == i: continue\n",
    "        sim = Jaccard(reci, rPerI[i2])\n",
    "        similarities.append((sim,i2))\n",
    "    similarities.sort(key=lambda x: (-x[0], x[1]))\n",
    "    return similarities[:5]"
   ]
  },
  {
   "cell_type": "code",
   "execution_count": 201,
   "id": "789abb1d",
   "metadata": {},
   "outputs": [
    {
     "data": {
      "text/plain": [
       "[(0.02, 'grenadine'),\n",
       " (0.01702127659574468, 'blue curacao'),\n",
       " (0.016304347826086956, 'cherry juice'),\n",
       " (0.015957446808510637, 'kirsch'),\n",
       " (0.015086206896551725, 'orange slice')]"
      ]
     },
     "execution_count": 201,
     "metadata": {},
     "output_type": "execute_result"
    }
   ],
   "source": [
    "mostSimilar_ingredient('cherries')"
   ]
  },
  {
   "cell_type": "markdown",
   "id": "5bf2c2f0",
   "metadata": {},
   "source": [
    "## Recommendation"
   ]
  },
  {
   "cell_type": "markdown",
   "id": "d978181b",
   "metadata": {},
   "source": [
    "### Just use similarity"
   ]
  },
  {
   "cell_type": "code",
   "execution_count": 31,
   "id": "402f1f37",
   "metadata": {},
   "outputs": [],
   "source": [
    "query = f['name'][20000]"
   ]
  },
  {
   "cell_type": "code",
   "execution_count": 32,
   "id": "ede15d52",
   "metadata": {},
   "outputs": [
    {
     "data": {
      "text/plain": [
       "'beef and cheese squares'"
      ]
     },
     "execution_count": 32,
     "metadata": {},
     "output_type": "execute_result"
    }
   ],
   "source": [
    "query"
   ]
  },
  {
   "cell_type": "code",
   "execution_count": 33,
   "id": "fd8c3da5",
   "metadata": {},
   "outputs": [
    {
     "data": {
      "text/plain": [
       "{'baking powder',\n",
       " 'cheddar cheese',\n",
       " 'flour',\n",
       " 'garlic powder',\n",
       " 'ground chuck',\n",
       " 'milk',\n",
       " 'mushrooms',\n",
       " 'onion',\n",
       " 'pepper',\n",
       " 'salt',\n",
       " 'shortening',\n",
       " 'sour cream'}"
      ]
     },
     "execution_count": 33,
     "metadata": {},
     "output_type": "execute_result"
    }
   ],
   "source": [
    "iPerR[query]"
   ]
  },
  {
   "cell_type": "code",
   "execution_count": 34,
   "id": "b92450d8",
   "metadata": {},
   "outputs": [],
   "source": [
    "ing = {'cinnamon', \n",
    "      'cherries', \n",
    "      'butterscotch', \n",
    "      'vodkag'}"
   ]
  },
  {
   "cell_type": "code",
   "execution_count": 35,
   "id": "8aab9170",
   "metadata": {},
   "outputs": [],
   "source": [
    "ing = {'lettuce heart', \n",
    "       'butterscotch',\n",
    "       'low-fat bacon'}"
   ]
  },
  {
   "cell_type": "code",
   "execution_count": 36,
   "id": "ddad8c30",
   "metadata": {},
   "outputs": [],
   "source": [
    "ing = {'cheese', 'pepper', 'onion', 'chicken'}"
   ]
  },
  {
   "cell_type": "code",
   "execution_count": 37,
   "id": "fbb61e4b",
   "metadata": {},
   "outputs": [
    {
     "name": "stdout",
     "output_type": "stream",
     "text": [
      "(0.5, 'chicken cheese ball', {'cream cheese', 'chicken', 'onion', 'cheese', 'mustard'})\n",
      "(0.42857142857142855, 'avgolemono soup  chicken soup', {'rice', 'onion', 'avgolemono sauce', 'salt', 'pepper', 'chicken'})\n",
      "(0.42857142857142855, 'omelets in a bag', {'onion', 'cheese', 'salt', 'eggs', 'pepper', 'ham'})\n",
      "(0.4, 'cheese rolls', {'cheese', 'pepper', 'white bread'})\n",
      "(0.4, 'cheese  cheese   onion  beef   cheese enchilada fillings', {'cheese', 'hamburger', 'onion'})\n",
      "(0.4, 'cheesy hash browns for one', {'cheese', 'potato', 'onion'})\n",
      "(0.4, 'leftover salsa chicken and cheese', {'cheese', 'salsa', 'chicken'})\n",
      "(0.375, 'basic cabbage soup', {'green cabbage', 'onion', 'salt', 'butter', 'pepper', 'chicken', 'cheddar cheese'})\n",
      "(0.375, 'bean   cheese casserole', {'prepared mustard', 'onion', 'cheese', 'black beans', 'pepper', 'diced tomatoes', 'potatoes'})\n",
      "(0.375, 'cheese and tomato pie', {'onion', '9 inch pie shell', 'salt', 'cheese', 'eggs', 'pepper', 'tomatoes'})\n"
     ]
    }
   ],
   "source": [
    "similarities2 = []\n",
    "for i2 in iPerR:\n",
    "    sim = Jaccard(ing, iPerR[i2])\n",
    "    similarities2.append((sim,i2,iPerR[i2]))\n",
    "similarities2.sort(key=lambda x: (-x[0]))\n",
    "for j in range(10):\n",
    "    print(similarities2[j])"
   ]
  },
  {
   "cell_type": "code",
   "execution_count": 38,
   "id": "f083365a",
   "metadata": {},
   "outputs": [],
   "source": [
    "num_list = [i[1] for i in similarities2[0:5]]\n",
    "prob = [i[0] for i in similarities2[0:5]]"
   ]
  },
  {
   "cell_type": "code",
   "execution_count": 39,
   "id": "656067e5",
   "metadata": {},
   "outputs": [
    {
     "data": {
      "image/png": "[encoded data removed]",
      "text/plain": [
       "<Figure size 432x288 with 1 Axes>"
      ]
     },
     "metadata": {
      "needs_background": "light"
     },
     "output_type": "display_data"
    }
   ],
   "source": [
    "plt.barh(range(len(prob)), prob, tick_label = num_list)\n",
    "# plt.savefig('top10.jpg')\n",
    "plt.show()"
   ]
  },
  {
   "cell_type": "code",
   "execution_count": 42,
   "id": "ec683c38",
   "metadata": {},
   "outputs": [],
   "source": [
    "list1 = eval(f.iloc[f[f.name == num_list[0]].index.tolist()[0]][\"nutrition\"])\n",
    "list2 = eval(f.iloc[f[f.name == num_list[1]].index.tolist()[0]][\"nutrition\"])\n",
    "list3 = eval(f.iloc[f[f.name == num_list[2]].index.tolist()[0]][\"nutrition\"])\n",
    "list4 = eval(f.iloc[f[f.name == num_list[3]].index.tolist()[0]][\"nutrition\"])\n",
    "list5 = eval(f.iloc[f[f.name == num_list[4]].index.tolist()[0]][\"nutrition\"])"
   ]
  },
  {
   "cell_type": "code",
   "execution_count": 44,
   "id": "90dfd2c0",
   "metadata": {},
   "outputs": [
    {
     "data": {
      "image/png": "[encoded data removed]",
      "text/plain": [
       "<Figure size 432x288 with 1 Axes>"
      ]
     },
     "metadata": {
      "needs_background": "light"
     },
     "output_type": "display_data"
    }
   ],
   "source": [
    "import matplotlib.pyplot as plt\n",
    "\n",
    "x = [1,2,3,4,5]\n",
    "# k1 = [list1[0],list2[0],list3[0],list4[0],list5[0]]\n",
    "k2 = [list1[1],list2[1],list3[1],list4[1],list5[1]]\n",
    "k3 = [list1[2],list2[2],list3[2],list4[2],list5[2]]\n",
    "k4 = [list1[3],list2[3],list3[3],list4[3],list5[3]]\n",
    "k5 = [list1[4],list2[4],list3[4],list4[4],list5[4]]\n",
    "# plt.plot(x,k1,'s-',color = 'r',label=\"calories\")\n",
    "plt.plot(x,k2,'o-',color = 'g',label=\"total fat\")\n",
    "plt.plot(x,k3,'o-',color = 'b',label=\"sugar\")\n",
    "plt.plot(x,k4,'o-',color = 'y',label=\"sodium\")\n",
    "plt.plot(x,k5,'o-',color = 'c',label=\"protein\")\n",
    "plt.xlabel(\"Recipe Number\")\n",
    "plt.ylabel(\"Content(g/mg)\")\n",
    "plt.legend(loc = \"best\")\n",
    "plt.savefig(\"Recipe number vs. content.jpg\")\n",
    "# plt.savefig(\"Recipe number vs. Calories.jpg\")\n",
    "plt.show()"
   ]
  },
  {
   "cell_type": "code",
   "execution_count": 67,
   "id": "f43d97aa",
   "metadata": {},
   "outputs": [],
   "source": [
    "k1, k2 = [], []"
   ]
  },
  {
   "cell_type": "code",
   "execution_count": 68,
   "id": "6082c057",
   "metadata": {},
   "outputs": [],
   "source": [
    "for i in range(5):\n",
    "    k1.append(f.iloc[f[f.name == num_list[i]].index.tolist()[0]][\"minutes\"])\n",
    "    k2.append(f.iloc[f[f.name == num_list[i]].index.tolist()[0]][\"n_steps\"])"
   ]
  },
  {
   "cell_type": "code",
   "execution_count": 69,
   "id": "1de66584",
   "metadata": {},
   "outputs": [
    {
     "data": {
      "image/png": "[encoded data removed]",
      "text/plain": [
       "<Figure size 432x288 with 1 Axes>"
      ]
     },
     "metadata": {
      "needs_background": "light"
     },
     "output_type": "display_data"
    }
   ],
   "source": [
    "x = [1,2,3,4,5]\n",
    "plt.bar(x, k1, tick_label = x)\n",
    "plt.xlabel(\"Recipe Number\")\n",
    "plt.ylabel(\"Time(min)\")\n",
    "# plt.savefig(\"Recipe number vs. Calories.jpg\")\n",
    "plt.show()"
   ]
  },
  {
   "cell_type": "code",
   "execution_count": 70,
   "id": "f237a0bc",
   "metadata": {},
   "outputs": [
    {
     "data": {
      "image/png": "[encoded data removed]",
      "text/plain": [
       "<Figure size 432x288 with 1 Axes>"
      ]
     },
     "metadata": {
      "needs_background": "light"
     },
     "output_type": "display_data"
    }
   ],
   "source": [
    "fig, ax = plt.subplots()\n",
    "x = [1,2,3,4,5]\n",
    "ax.bar(np.arange(5), k1, tick_label = x, width = 0.45, label = 'time')\n",
    "ax.bar(np.arange(5) + 0.45, k2, tick_label = x, width = 0.45, label = 'steps')\n",
    "plt.xlabel(\"Recipe Number\")\n",
    "plt.ylabel(\"time/steps number\")\n",
    "ax.legend()\n",
    "plt.savefig(\"Recipe number vs. time or steps.jpg\")\n",
    "plt.show()"
   ]
  },
  {
   "cell_type": "markdown",
   "id": "dfb3d876",
   "metadata": {},
   "source": [
    "### Rank all the ingredients"
   ]
  },
  {
   "cell_type": "code",
   "execution_count": 221,
   "id": "09e3bdad",
   "metadata": {},
   "outputs": [],
   "source": [
    "ingredients = []\n",
    "for i in range(f.shape[0]):\n",
    "    ingredients.extend(eval(f['ingredients'][i]))"
   ]
  },
  {
   "cell_type": "code",
   "execution_count": 222,
   "id": "6d074820",
   "metadata": {},
   "outputs": [],
   "source": [
    "dict = {}\n",
    "for key in ingredients:\n",
    "    dict[key] = dict.get(key, 0) + 1"
   ]
  },
  {
   "cell_type": "code",
   "execution_count": 223,
   "id": "09d6b681",
   "metadata": {},
   "outputs": [],
   "source": [
    "ingredients_sort = sorted(dict.items(), key=lambda x: x[1], reverse=True)"
   ]
  },
  {
   "cell_type": "code",
   "execution_count": 224,
   "id": "3d08318f",
   "metadata": {},
   "outputs": [],
   "source": [
    "ingredient_top50 = []\n",
    "for i in range(50):\n",
    "    ingredient_top50.append(ingredients_sort[i][0])"
   ]
  },
  {
   "cell_type": "code",
   "execution_count": 225,
   "id": "829bad7c",
   "metadata": {},
   "outputs": [
    {
     "data": {
      "text/plain": [
       "['salt',\n",
       " 'butter',\n",
       " 'sugar',\n",
       " 'onion',\n",
       " 'water',\n",
       " 'eggs',\n",
       " 'olive oil',\n",
       " 'flour',\n",
       " 'milk',\n",
       " 'garlic cloves']"
      ]
     },
     "execution_count": 225,
     "metadata": {},
     "output_type": "execute_result"
    }
   ],
   "source": [
    "ingredient_top50[0:10]"
   ]
  },
  {
   "cell_type": "code",
   "execution_count": 226,
   "id": "ee085d55",
   "metadata": {},
   "outputs": [
    {
     "data": {
      "text/plain": [
       "44535"
      ]
     },
     "execution_count": 226,
     "metadata": {},
     "output_type": "execute_result"
    }
   ],
   "source": [
    "dict['sugar']"
   ]
  },
  {
   "cell_type": "code",
   "execution_count": 227,
   "id": "00fe0b16",
   "metadata": {},
   "outputs": [
    {
     "data": {
      "image/png": "[encoded data removed]",
      "text/plain": [
       "<Figure size 432x288 with 1 Axes>"
      ]
     },
     "metadata": {
      "needs_background": "light"
     },
     "output_type": "display_data"
    }
   ],
   "source": [
    "num_list = [dict[i] for i in ingredient_top50[0:10]]\n",
    "plt.barh(range(len(num_list)), num_list, tick_label = ingredient_top50[0:10])\n",
    "plt.savefig('top10.jpg')\n",
    "plt.show()"
   ]
  },
  {
   "cell_type": "markdown",
   "id": "a579400a",
   "metadata": {},
   "source": [
    "Now the problem is that some ingredients does not exist in the dataset. We need to find similar ingredients.\n",
    "What I did in this step is to find some similar ingredients as new input."
   ]
  },
  {
   "cell_type": "code",
   "execution_count": 311,
   "id": "95f316fa",
   "metadata": {},
   "outputs": [],
   "source": [
    "new = []"
   ]
  },
  {
   "cell_type": "code",
   "execution_count": 312,
   "id": "76db01f1",
   "metadata": {},
   "outputs": [],
   "source": [
    "s = 'lettuce heart'\n",
    "for i in dict:\n",
    "    if s.find(i) != -1:\n",
    "        if dict[i] > 300:\n",
    "            new.append(i)   "
   ]
  },
  {
   "cell_type": "code",
   "execution_count": 313,
   "id": "45ece97e",
   "metadata": {},
   "outputs": [],
   "source": [
    "s = 'butterscotch'\n",
    "for i in dict:\n",
    "    if s.find(i) != -1:\n",
    "        if dict[i] > 300:\n",
    "            new.append(i) "
   ]
  },
  {
   "cell_type": "code",
   "execution_count": 314,
   "id": "b147bfb4",
   "metadata": {},
   "outputs": [],
   "source": [
    "s = 'low fat bacon'\n",
    "for i in dict:\n",
    "    if s.find(i) != -1:\n",
    "         if dict[i] > 300:\n",
    "            new.append(i)"
   ]
  },
  {
   "cell_type": "code",
   "execution_count": 315,
   "id": "323d179d",
   "metadata": {},
   "outputs": [
    {
     "data": {
      "text/plain": [
       "['lettuce', 'butter', 'bacon']"
      ]
     },
     "execution_count": 315,
     "metadata": {},
     "output_type": "execute_result"
    }
   ],
   "source": [
    "new"
   ]
  },
  {
   "cell_type": "code",
   "execution_count": 306,
   "id": "13957af9",
   "metadata": {},
   "outputs": [],
   "source": [
    "dict2 = {}\n",
    "for key in dict:\n",
    "    if key.find('butterscotch') != -1:\n",
    "        dict2[key] = dict[key]\n",
    "ww = sorted(dict2.items(), key=lambda x: x[1], reverse=True)\n",
    "if dict[ww[0][0]] > 300:\n",
    "    new.append(ww[0][0])"
   ]
  },
  {
   "cell_type": "code",
   "execution_count": 307,
   "id": "6c6b2d57",
   "metadata": {},
   "outputs": [],
   "source": [
    "dict3 = {}\n",
    "for key in dict:\n",
    "    if key == 'lettuce heart': continue\n",
    "    if key.find('lettuce heart') != -1:\n",
    "        dict3[key] = dict[key]\n",
    "ww2 = sorted(dict3.items(), key=lambda x: x[1], reverse=True)\n",
    "if dict[ww2[0][0]] > 300:\n",
    "    new.append(ww2[0][0])"
   ]
  },
  {
   "cell_type": "code",
   "execution_count": 308,
   "id": "3859f756",
   "metadata": {},
   "outputs": [],
   "source": [
    "dict4 = {}\n",
    "for key in dict:\n",
    "    if key == 'low fat bacon': continue\n",
    "    if key.find('low fat bacon') != -1:\n",
    "        dict4[key] = dict[key]\n",
    "ww3 = sorted(dict4.items(), key=lambda x: x[1], reverse=True)\n",
    "if dict[ww3[0][0]] > 300:\n",
    "    new.append(ww3[0][0])"
   ]
  },
  {
   "cell_type": "code",
   "execution_count": 320,
   "id": "903b1c90",
   "metadata": {},
   "outputs": [
    {
     "data": {
      "text/plain": [
       "['lettuce', 'butter', 'bacon']"
      ]
     },
     "execution_count": 320,
     "metadata": {},
     "output_type": "execute_result"
    }
   ],
   "source": [
    "new"
   ]
  },
  {
   "cell_type": "code",
   "execution_count": 321,
   "id": "0c67605a",
   "metadata": {},
   "outputs": [],
   "source": [
    "ing = set(new)"
   ]
  },
  {
   "cell_type": "code",
   "execution_count": 322,
   "id": "85faee47",
   "metadata": {},
   "outputs": [],
   "source": [
    "def similarity(s1, s2):\n",
    "    numer = len(s1.intersection(s2))\n",
    "    denom = len(s1.union(s2))\n",
    "    return numer / denom"
   ]
  },
  {
   "cell_type": "code",
   "execution_count": 323,
   "id": "690507a8",
   "metadata": {},
   "outputs": [
    {
     "name": "stdout",
     "output_type": "stream",
     "text": [
      "(0.5, 'grilled vidalia onions', {'butter', 'vidalia onions', 'bacon'})\n",
      "(0.5, 'mr robinsons  butter beans', {'butter', 'butter beans', 'bacon'})\n",
      "(0.4, 'bake in  oozy bread', {'butter', 'real maple syrup', 'refrigerated buttermilk biscuits', 'bacon'})\n",
      "(0.4, 'bacon and peanut butter on crispy toast appetizer', {'white bread', 'butter', 'creamy peanut butter', 'bacon'})\n",
      "(0.4, 'bacon pinwheels', {'lettuce', 'flour tortillas', 'cream cheese', 'bacon'})\n"
     ]
    }
   ],
   "source": [
    "similarities2 = []\n",
    "for i2 in iPerR:\n",
    "    sim = similarity(ing, iPerR[i2])\n",
    "    similarities2.append((sim,i2,iPerR[i2]))\n",
    "similarities2.sort(key=lambda x: (-x[0]))\n",
    "for j in range(5):\n",
    "    print(similarities2[j])"
   ]
  },
  {
   "cell_type": "code",
   "execution_count": null,
   "id": "a2af169b",
   "metadata": {},
   "outputs": [],
   "source": []
  }
 ],
 "metadata": {
  "kernelspec": {
   "display_name": "Python 3 (ipykernel)",
   "language": "python",
   "name": "python3"
  },
  "language_info": {
   "codemirror_mode": {
    "name": "ipython",
    "version": 3
   },
   "file_extension": ".py",
   "mimetype": "text/x-python",
   "name": "python",
   "nbconvert_exporter": "python",
   "pygments_lexer": "ipython3",
   "version": "3.9.7"
  }
 },
 "nbformat": 4,
 "nbformat_minor": 5
}
